{
 "cells": [
  {
   "cell_type": "markdown",
   "metadata": {},
   "source": [
    "# Série de Fourrier em sua forma Trigonométrica\n",
    " \n",
    "\n",
    "Gabriel Lucas Costa Pereira\n",
    "\n",
    "Análise de Sinais e Sistemas Lineares\n",
    "                     \n",
    "         \n",
    "         \n",
    "         Departamento de Engenharia Elétrica\n",
    "     Universidade Federal do Rio Grande do Norte\n",
    "                     Natal-RN\n",
    "                   Abril de 2016"
   ]
  },
  {
   "cell_type": "markdown",
   "metadata": {},
   "source": [
    "## Resumo\n",
    "        Este trabalho apresenta a representação de dois sinais periódicos em sua respectiva forma trigonométrica da Série de Fourrier. São utilizados métodos de programação para gerar gráficos, tornando possível observar experimentalmente a eficácia do método matemático."
   ]
  },
  {
   "cell_type": "code",
   "execution_count": null,
   "metadata": {
    "collapsed": true
   },
   "outputs": [],
   "source": []
  }
 ],
 "metadata": {
  "kernelspec": {
   "display_name": "Python 3",
   "language": "python",
   "name": "python3"
  },
  "language_info": {
   "codemirror_mode": {
    "name": "ipython",
    "version": 3
   },
   "file_extension": ".py",
   "mimetype": "text/x-python",
   "name": "python",
   "nbconvert_exporter": "python",
   "pygments_lexer": "ipython3",
   "version": "3.5.1"
  }
 },
 "nbformat": 4,
 "nbformat_minor": 0
}
