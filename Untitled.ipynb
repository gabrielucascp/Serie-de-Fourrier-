{
 "cells": [
  {
   "cell_type": "markdown",
   "metadata": {},
   "source": [
    "# Série de Fourrier em sua forma Trigonométrica\n",
    " \n",
    "\n",
    "Gabriel Lucas Costa Pereira\n",
    "\n",
    "Análise de Sinais e Sistemas Lineares\n",
    "                     \n",
    "         \n",
    "         \n",
    "         Departamento de Engenharia Elétrica\n",
    "     Universidade Federal do Rio Grande do Norte\n",
    "                     Natal-RN\n",
    "                   Abril de 2016"
   ]
  },
  {
   "cell_type": "markdown",
   "metadata": {},
   "source": [
    "## Resumo\n",
    "        Este trabalho apresenta a representação de dois sinais periódicos em sua respectiva forma trigonométrica da Série de Fourrier. São utilizados métodos de programação para gerar gráficos, tornando possível observar experimentalmente a eficácia do método matemático."
   ]
  },
  {
   "cell_type": "markdown",
   "metadata": {
    "collapsed": true
   },
   "source": [
    "## Sumário\n",
    "\n",
    "1. Introdução\n"
   ]
  },
  {
   "cell_type": "code",
   "execution_count": 68,
   "metadata": {
    "collapsed": false
   },
   "outputs": [],
   "source": [
    "from pylab import *\n",
    "from numpy import pi, arange\n",
    "import math\n",
    "pe=pi*pi\n",
    "def A(n):\n",
    "    y =(1./(2.*pe*n*n))*(2.*pi*n*sin(2.*pi*n)+cos(2.*pi*n)-1.)\n",
    "    return y\n",
    "def B(n):\n",
    "    y =(1/(2.*pe*n*n))*(-2.*pi*n*cos(2.*pi*n)+sin(2.*pi*n)-1.)\n",
    "    return y\n",
    "\n",
    "def X(t):\n",
    "    y=0.5\n",
    "    for i in range(1,1000, 1):\n",
    "        y=y+A(i)*cos(i*t) + B(i)*sin(i*t)\n",
    "    return y\n",
    "\n",
    "x = arange(-5*pi,5*pi,0.01)\n",
    "y = X(x)\n",
    "plot(x,y)\n",
    "show()"
   ]
  },
  {
   "cell_type": "markdown",
   "metadata": {},
   "source": [
    "$$B_n=\\frac{1}{5\\pi}\\left[-cos(\\frac{n\\pi}{5}+cos(\\frac{-n\\pi}{5})\\right]\n",
    "$$"
   ]
  },
  {
   "cell_type": "markdown",
   "metadata": {},
   "source": []
  },
  {
   "cell_type": "code",
   "execution_count": null,
   "metadata": {
    "collapsed": true
   },
   "outputs": [],
   "source": []
  }
 ],
 "metadata": {
  "kernelspec": {
   "display_name": "Python 3",
   "language": "python",
   "name": "python3"
  },
  "language_info": {
   "codemirror_mode": {
    "name": "ipython",
    "version": 3
   },
   "file_extension": ".py",
   "mimetype": "text/x-python",
   "name": "python",
   "nbconvert_exporter": "python",
   "pygments_lexer": "ipython3",
   "version": "3.5.1"
  }
 },
 "nbformat": 4,
 "nbformat_minor": 0
}
