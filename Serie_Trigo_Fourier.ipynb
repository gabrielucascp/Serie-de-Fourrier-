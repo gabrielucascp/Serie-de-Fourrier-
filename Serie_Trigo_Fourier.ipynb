{
 "cells": [
  {
   "cell_type": "markdown",
   "metadata": {},
   "source": [
    "# Série Trigonométrica de Fourier\n",
    "\n",
    "Gabriel Lucas Costa Pereira\n",
    "Análise de Sinais e Sistemas Lineares\n",
    "\n",
    "Departamento de Engenharia Elétrica\n",
    "Universidade Federal do Rio Grande do Norte\n",
    "Natal-RN\n",
    "Abril - 2016\n"
   ]
  },
  {
   "cell_type": "markdown",
   "metadata": {},
   "source": [
    "# Resumo\n",
    "\n",
    "Este trabalho apresenta a representação de dois sinais periódicos em sua respectiva forma trigonométrica da Série de Fourrier. São utilizados métodos de programação para gerar gráficos, tornando possível observar experimentalmente a eficácia do método matemático\n",
    "\n",
    "\n",
    "    \n",
    "\n",
    "\n"
   ]
  },
  {
   "cell_type": "markdown",
   "metadata": {
    "collapsed": true
   },
   "source": [
    "## Sumário\n",
    "1. Introdução\n",
    "2. Cálculos da Série Trigonométrica de Fourier utilizados\n",
    "3. Exemplo 1\n",
    "   1. Representação a partir da Série Trigonométrica de Fourier\n",
    "   2. Gráfico de sua Série de Fourier\n",
    "4. Exemplo 2\n",
    "   1. Representação a partir da Série Trigonométrica de Fourier\n",
    "   2. Gráfico de sua Série de Fourier\n",
    "\n"
   ]
  },
  {
   "cell_type": "markdown",
   "metadata": {},
   "source": [
    "# Introdução\n",
    "\n",
    "O presente relatório desenvolve os cálculos de dois exemplos de sinais periódicos representando-os a partir da Série de Fourier na forma trigonométrica. E através de linguagens de programação python e $\\LaTeX$ apresenta os gráficos das duas funções no domínio do tempo e os gráficos de suas respectivas amplitudes e fases no domínio da frequência.\n",
    "A Série de Fourier foi desenvolvida pelo matemático e Jean-Baptiste-Joseph Fourier (1768 - 1830) no início do século $\\textit{IXX}$. A série foi elaborada quando Fourier ocupava-se nos estudos sobre propagação de calor em corpos sólidos. O matemático afirmou em um artigo sobre a teoria do calor, que uma função contínua ou descontínua em um certo período poderia ser representada através de uma soma de senoides.\n",
    "\n",
    "$$x(t) = a_0 + \\sum\\limits_{n=1}^{\\infty} a_n\\cos n\\omega_0T_0 + b_n\\sin n\\omega_0T_0 \\,\\,\\,\\,\\,\\,\\,\\,Equanção\\,(I.1)$$ \n",
    "\n",
    "A banca de avaliação de sua tese era compostas por grandes nomes da ciência como Laplace e Lagrange. O primeiro, não estava de acordo com a teoria de Fourier alegando que esta não era geral como seu autor o afirmou. Essa relutância do revisor em aceitar a teoria também escondia certa carga de posição pessoal, já que Laplace e seus pupilos estavam abordando a mesma teoria de calor em uma abordagem diferente. Mesmo com quatro dos revisores estarem a favor da publicação do artigo, a reprovação por Lagrange teve peso o suficiente para a recusa da publicação.\n",
    "Quinze anos após esse episódio, Fourier publicou uma obra dedicada inteiramente à sua teoria de calor contendo sua série. E algum tempo depois certas peculiaridades da série foram provadas, fazendo com que até hoje seja de extrema utilidade na área da ciência teórica e aplicada.\n"
   ]
  },
  {
   "cell_type": "markdown",
   "metadata": {},
   "source": [
    "# Cálculos da Série Trigonométrica de Fourier utilizados\n",
    "\n",
    "A Série de Fourier em sua forma trigonométrica é definida pela Equação I.1. A partir da função x(t) é possível encontrar os coeficientes $a_0\\,, a_n\\,$ e $bn$. Também é possível definir a frequência fundamenteal $\\omega_0$ e o período $T_0$ a partir da observação do gráfico da função x(t).\n",
    "![Turing's Device](http://www.dt.fee.unicamp.br/~www/ea612/img2233.gif)\n",
    "$$Gráfico 1: Exemplo\\,de\\,função\\,periódica$$\n",
    "O p"
   ]
  },
  {
   "cell_type": "code",
   "execution_count": 136,
   "metadata": {
    "collapsed": false
   },
   "outputs": [
    {
     "ename": "SyntaxError",
     "evalue": "invalid syntax (<ipython-input-136-5ef7939d68f5>, line 65)",
     "output_type": "error",
     "traceback": [
      "\u001b[1;36m  File \u001b[1;32m\"<ipython-input-136-5ef7939d68f5>\"\u001b[1;36m, line \u001b[1;32m65\u001b[0m\n\u001b[1;33m    %% latex\u001b[0m\n\u001b[1;37m    ^\u001b[0m\n\u001b[1;31mSyntaxError\u001b[0m\u001b[1;31m:\u001b[0m invalid syntax\n"
     ]
    }
   ],
   "source": [
    "#-----------------------Função x(t) = t/2*pi p/ 0 < t < 2*pi na Série Trigonométrica de Fourier---------------------#\n",
    "\n",
    "#Definindo biblioteca matplotlib inline para gerar o gráfico na própria página\n",
    "%matplotlib inline \n",
    "figure(figsize=(17, 10))\n",
    "import matplotlib\n",
    "from pylab import *\n",
    "from numpy import pi, arange, fft\n",
    "import math\n",
    "#Definindo as expressos dos coeficientes an e bn, respectivamente e\n",
    "pe=pi*pi\n",
    "\n",
    "def a(n):\n",
    "    y =(1./(2.*pe*n*n))*(2.*pi*n*sin(2.*pi*n)+cos(2.*pi*n)-1.)\n",
    "    return y\n",
    "def b(n):\n",
    "    y =(1/(2.*pe*n*n))*(-2.*pi*n*cos(2.*pi*n)+sin(2.*pi*n) -1.)\n",
    "    return y\n",
    "\n",
    "\n",
    "\n",
    "#Série com n = 4\n",
    "subplot (231)\n",
    "def X(t):\n",
    "    y=0.5\n",
    "    for n in range(1,4, 1):\n",
    "        y=y+a(n)*cos(n*t) + b(n)*sin(n*t) \n",
    "    return y\n",
    "\n",
    "t1 = arange(-4*pi,4*pi,0.01)\n",
    "x1 = X(t1)\n",
    "\n",
    "plot(t1,x1)\n",
    "grid()\n",
    "ylabel ('x(t)')\n",
    "\n",
    "\n",
    "#Série com n = 10\n",
    "subplot (232)\n",
    "def X(t):\n",
    "    y=0.5\n",
    "    for n in range(1,10, 1):\n",
    "        y=y+a(n)*cos(n*t) + b(n)*sin(n*t)\n",
    "    return y\n",
    "\n",
    "t2 = arange(-4*pi,4*pi,0.01)\n",
    "x2 = X(t2)\n",
    "plot(t2,x2)\n",
    "grid()\n",
    "xlabel ('t')\n",
    "\n",
    "#Série com n = 110\n",
    "subplot (233)\n",
    "def X(t):\n",
    "    y=0.5\n",
    "    for n in range(1,110, 1):\n",
    "        y=y+a(n)*cos(n*t) + b(n)*sin(n*t)\n",
    "    return y\n",
    "\n",
    "t3 = arange(-4*pi,4*pi,0.01)\n",
    "x3 = X(t3)\n",
    "plot(t3,x3)\n",
    "\n",
    "grid()\n"
   ]
  },
  {
   "cell_type": "code",
   "execution_count": 134,
   "metadata": {
    "collapsed": false
   },
   "outputs": [
    {
     "name": "stderr",
     "output_type": "stream",
     "text": [
      "C:\\Users\\Sebastiao\\Anaconda3\\lib\\site-packages\\ipykernel\\__main__.py:13: RuntimeWarning: invalid value encountered in double_scalars\n"
     ]
    },
    {
     "data": {
      "text/plain": [
       "<matplotlib.text.Text at 0x6d50690>"
      ]
     },
     "execution_count": 134,
     "metadata": {},
     "output_type": "execute_result"
    },
    {
     "data": {
      "image/png": "[encoded data removed]",
      "text/plain": [
       "<matplotlib.figure.Figure at 0x6e46d10>"
      ]
     },
     "metadata": {},
     "output_type": "display_data"
    }
   ],
   "source": [
    "#-----------------------Função x(t) = t/2*pi p/ 0 < t < 2*pi na Série Trigonométrica de Fourier---------------------#\n",
    "                       #-------Espectro de Amplitude e espectro de fase--------#\n",
    "#Definindo biblioteca matplotlib inline para gerar o gráfico na própria página\n",
    "%matplotlib inline \n",
    "figure(figsize=(7, 5))\n",
    "import matplotlib\n",
    "from pylab import *\n",
    "from numpy import pi, arange, fft\n",
    "import math\n",
    "# Definindo expressão das amplitudes\n",
    "def C(n):\n",
    "    \n",
    "    y = sqrt(((2.*pi*n*sin(n*2.*pi) + cos(n*2.*pi)-1.)/(4.*pi*pi*n*n))**2 + (-(-2.*pi*n*cos(n*2.*pi)-sin(n*2.*pi))/(4*pi*pi*n*n))**2)\n",
    "    return y\n",
    "plot([0,1,2,3,4], [C(0), C(1),C(2),C(3),C(4)], 'bo')\n",
    "axis([0, 5, 0, C(4) + 0.2])\n",
    "grid()    \n",
    "ylabel ('Amplitude |Cn|')\n",
    "xlabel ('n')\n",
    "\n",
    "\n"
   ]
  },
  {
   "cell_type": "code",
   "execution_count": null,
   "metadata": {
    "collapsed": false
   },
   "outputs": [],
   "source": []
  },
  {
   "cell_type": "code",
   "execution_count": null,
   "metadata": {
    "collapsed": false
   },
   "outputs": [],
   "source": []
  },
  {
   "cell_type": "code",
   "execution_count": null,
   "metadata": {
    "collapsed": true
   },
   "outputs": [],
   "source": []
  }
 ],
 "metadata": {
  "kernelspec": {
   "display_name": "Python 3",
   "language": "python",
   "name": "python3"
  },
  "language_info": {
   "codemirror_mode": {
    "name": "ipython",
    "version": 3
   },
   "file_extension": ".py",
   "mimetype": "text/x-python",
   "name": "python",
   "nbconvert_exporter": "python",
   "pygments_lexer": "ipython3",
   "version": "3.5.1"
  }
 },
 "nbformat": 4,
 "nbformat_minor": 0
}
